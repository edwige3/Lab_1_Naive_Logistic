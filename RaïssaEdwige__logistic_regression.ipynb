{
  "cells": [
    {
      "cell_type": "markdown",
      "metadata": {
        "id": "view-in-github",
        "colab_type": "text"
      },
      "source": [
        "<a href=\"https://colab.research.google.com/github/edwige3/Lab_1_Naive_Logistic/blob/main/Ra%C3%AFssaEdwige__logistic_regression.ipynb\" target=\"_parent\"><img src=\"https://colab.research.google.com/assets/colab-badge.svg\" alt=\"Open In Colab\"/></a>"
      ]
    },
    {
      "cell_type": "markdown",
      "metadata": {
        "id": "gfDP6b22TVWG"
      },
      "source": [
        "In this second part of the lab, we will implement a language identifier trained on the same data, but using Logistic Regression instead of Naive Bayes."
      ]
    },
    {
      "cell_type": "code",
      "execution_count": 45,
      "metadata": {
        "id": "B0RRtD_uTVWG"
      },
      "outputs": [],
      "source": [
        "import io, sys, math\n",
        "import numpy as np\n",
        "from collections import defaultdict"
      ]
    },
    {
      "cell_type": "markdown",
      "metadata": {
        "id": "z4UGMKR9TVWH"
      },
      "source": [
        "This function is used to build the dictionary, or vocabulary, which is a mapping from strings (or words) to integers (or indices). This will allow to build vector representations of documents. "
      ]
    },
    {
      "cell_type": "code",
      "execution_count": 46,
      "metadata": {
        "id": "LW2DSQ_3TVWH"
      },
      "outputs": [],
      "source": [
        "def build_dict(filename, threshold=1):\n",
        "    fin = io.open(filename, 'r', encoding='utf-8')\n",
        "    word_dict, label_dict = {}, {}\n",
        "    counts = defaultdict(lambda: 0)\n",
        "    for line in fin:\n",
        "        tokens = line.split()\n",
        "        label = tokens[0]\n",
        "\n",
        "        if not label in label_dict:\n",
        "            label_dict[label] = len(label_dict)\n",
        "\n",
        "        for w in tokens[1:]:\n",
        "            counts[w] += 1\n",
        "            \n",
        "    for k, v in counts.items():\n",
        "        if v > threshold:\n",
        "            word_dict[k] = len(word_dict)\n",
        "    return word_dict, label_dict"
      ]
    },
    {
      "cell_type": "markdown",
      "metadata": {
        "id": "A6v9mJF6TVWH"
      },
      "source": [
        "This function is used to load the training dataset, and build vector representations of the training examples. In particular, a document or sentence is represented as a bag of words. Each example correspond to a sparse vector ` x` of dimension `V`, where `V` is the size of the vocabulary. The element `j` of the vector `x` is the number of times the word `j` appears in the document."
      ]
    },
    {
      "cell_type": "code",
      "execution_count": 47,
      "metadata": {
        "id": "Y_KP0sMpTVWH"
      },
      "outputs": [],
      "source": [
        "def load_data(filename, word_dict, label_dict):\n",
        "    fin = io.open(filename, 'r', encoding='utf-8')\n",
        "    data = []\n",
        "    dim = len(word_dict)\n",
        "    for line in fin:\n",
        "        tokens = line.split()\n",
        "        label = tokens[0]\n",
        "\n",
        "        yi = label_dict[label]\n",
        "        xi = np.zeros(dim)\n",
        "        for word in tokens[1:]:\n",
        "            if word in word_dict:\n",
        "                wid = word_dict[word]\n",
        "                xi[wid] += 1.0\n",
        "        data.append((yi, xi))\n",
        "    return data"
      ]
    },
    {
      "cell_type": "markdown",
      "metadata": {
        "id": "h7-p2uKZTVWH"
      },
      "source": [
        "First, let's implement the softmax function. Don't forget numerical stability!"
      ]
    },
    {
      "cell_type": "code",
      "execution_count": 48,
      "metadata": {
        "id": "CYWowW8WTVWH"
      },
      "outputs": [],
      "source": [
        "def softmax(x):\n",
        "    ### FILL CODE\n",
        "    z = x - max(x)\n",
        "    Num = np.exp(z)\n",
        "    Deno = np.sum(Num)\n",
        "    softmax = Num/Deno\n",
        "\n",
        "    return softmax"
      ]
    },
    {
      "cell_type": "markdown",
      "metadata": {
        "id": "FY95X4q5TVWH"
      },
      "source": [
        "Now, let's implement the main training loop, by using stochastic gradient descent. The function will iterate over the examples of the training set. For each example, we will first compute the loss, before computing the gradient and performing the update."
      ]
    },
    {
      "cell_type": "code",
      "execution_count": 29,
      "metadata": {
        "id": "kXecTu3kTVWI"
      },
      "outputs": [],
      "source": [
        ""
      ]
    },
    {
      "cell_type": "code",
      "source": [
        "\n",
        "def sgd(w, data, niter):\n",
        "    n_labels, dim = w.shape\n",
        "    lr=0.4 #learning rate\n",
        "    for iter in range(niter):\n",
        "\n",
        "      T_loss= 0.0 # the loss during the training \n",
        "\n",
        "      for labels, sentence in data: # labels = classes and sentences = documents ,observation without a labels \n",
        "        \n",
        "        pred= softmax(np.dot(w, sentence)) # we compute the predict value \n",
        "\n",
        "        T_loss+= math.log(pred[labels]) # here we compute the loss \n",
        " \n",
        "        \n",
        "        zero_vec = np.zeros(n_labels) # we initialize to zero the vect of n_labels value of zero\n",
        "\n",
        "        zero_vec[labels] = 1.0\n",
        "\n",
        "        error= pred - zero_vec\n",
        "\n",
        "        gradient= error.reshape(n_labels, 1)*sentence.reshape((1, dim))\n",
        "\n",
        "        w = w - lr*gradient\n",
        "      print(\"iteration: %02d loss: %.3f\" % (iter, T_loss/len(data)))\n",
        "    return w"
      ],
      "metadata": {
        "id": "R76GCkXR4iY-"
      },
      "execution_count": 54,
      "outputs": []
    },
    {
      "cell_type": "markdown",
      "metadata": {
        "id": "nJ4CFS5MTVWI"
      },
      "source": [
        "The next function will predict the most probable label corresponding to example `x`, given the trained classifier `w`."
      ]
    },
    {
      "cell_type": "code",
      "execution_count": 55,
      "metadata": {
        "id": "3aMiYH4fTVWI"
      },
      "outputs": [],
      "source": [
        "def predict(w, x):\n",
        "\n",
        "  ## FILL CODE\n",
        "  pred= softmax(np.dot(w, x))\n",
        "  return np.argmax(pred)"
      ]
    },
    {
      "cell_type": "markdown",
      "metadata": {
        "id": "YiVwXRqXTVWI"
      },
      "source": [
        "Finally, this function will compute the accuracy of a trained classifier `w` on a validation set."
      ]
    },
    {
      "cell_type": "code",
      "execution_count": 56,
      "metadata": {
        "id": "mR3S_6HVTVWI"
      },
      "outputs": [],
      "source": [
        "def compute_accuracy(w, valid_data):\n",
        "    ## FILL CODE\n",
        "    accuracy = 0.0\n",
        "    for labels, sentence in valid_data:\n",
        "        ## FILL CODE\n",
        "        pred= predict(w, sentence)\n",
        "        if pred == labels:\n",
        "            accuracy+=1.0\n",
        "    \n",
        "\n",
        "     \n",
        "    return accuracy/len(valid_data)\n",
        "\n"
      ]
    },
    {
      "cell_type": "code",
      "execution_count": 57,
      "metadata": {
        "id": "dNwLMtsqTVWI",
        "colab": {
          "base_uri": "https://localhost:8080/"
        },
        "outputId": "9b735223-805c-4263-ce94-1981f70c1b59"
      },
      "outputs": [
        {
          "output_type": "stream",
          "name": "stdout",
          "text": [
            "\n",
            "** Logistic Regression **\n",
            "\n",
            "iteration: 00 loss: -0.528\n",
            "iteration: 01 loss: -0.229\n",
            "iteration: 02 loss: -0.174\n",
            "iteration: 03 loss: -0.146\n",
            "iteration: 04 loss: -0.129\n",
            "\n",
            "Validation accuracy: 0.931\n",
            "\n"
          ]
        }
      ],
      "source": [
        "print(\"\")\n",
        "print(\"** Logistic Regression **\")\n",
        "print(\"\")\n",
        "\n",
        "word_dict, label_dict = build_dict(\"/content/train1.txt\")\n",
        "train_data = load_data(\"/content/train1.txt\", word_dict, label_dict)\n",
        "valid_data = load_data(\"/content/valid1.txt\", word_dict, label_dict)\n",
        "\n",
        "nlabels = len(label_dict)\n",
        "dim = len(word_dict)\n",
        "w = np.zeros([nlabels, dim])\n",
        "w = sgd(w, train_data, 5)\n",
        "print(\"\")\n",
        "print(\"Validation accuracy: %.3f\" % compute_accuracy(w, valid_data))\n",
        "print(\"\")"
      ]
    },
    {
      "cell_type": "code",
      "source": [
        "print(\"\")\n",
        "print(\"** Logistic Regression **\")\n",
        "print(\"\")\n",
        "\n",
        "word_dict, label_dict = build_dict(\"/content/train1.txt\")\n",
        "train_data = load_data(\"/content/train1.txt\", word_dict, label_dict)\n",
        "valid_data = load_data(\"/content/valid1.txt\", word_dict, label_dict)\n",
        "\n",
        "nlabels = len(label_dict)\n",
        "dim = len(word_dict)\n",
        "w = np.zeros([nlabels, dim])\n",
        "w = sgd(w, train_data, 10)\n",
        "print(\"\")\n",
        "print(\"Validation accuracy: %.3f\" % compute_accuracy(w, valid_data))\n",
        "print(\"\")"
      ],
      "metadata": {
        "colab": {
          "base_uri": "https://localhost:8080/"
        },
        "id": "vxPQ26ia_M4w",
        "outputId": "4caa97d7-f1f8-4a4a-aeec-b4c327d9f3f6"
      },
      "execution_count": 58,
      "outputs": [
        {
          "output_type": "stream",
          "name": "stdout",
          "text": [
            "\n",
            "** Logistic Regression **\n",
            "\n",
            "iteration: 00 loss: -0.528\n",
            "iteration: 01 loss: -0.229\n",
            "iteration: 02 loss: -0.174\n",
            "iteration: 03 loss: -0.146\n",
            "iteration: 04 loss: -0.129\n",
            "iteration: 05 loss: -0.117\n",
            "iteration: 06 loss: -0.109\n",
            "iteration: 07 loss: -0.103\n",
            "iteration: 08 loss: -0.098\n",
            "iteration: 09 loss: -0.094\n",
            "\n",
            "Validation accuracy: 0.932\n",
            "\n"
          ]
        }
      ]
    }
  ],
  "metadata": {
    "kernelspec": {
      "display_name": "Python 3",
      "language": "python",
      "name": "python3"
    },
    "language_info": {
      "codemirror_mode": {
        "name": "ipython",
        "version": 3
      },
      "file_extension": ".py",
      "mimetype": "text/x-python",
      "name": "python",
      "nbconvert_exporter": "python",
      "pygments_lexer": "ipython3",
      "version": "3.6.2+"
    },
    "colab": {
      "name": "RaïssaEdwige_ logistic_regression.ipynb",
      "provenance": [],
      "include_colab_link": true
    }
  },
  "nbformat": 4,
  "nbformat_minor": 0
}